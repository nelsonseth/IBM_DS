{
 "cells": [
  {
   "cell_type": "markdown",
   "id": "3aca4bca-3995-4ca4-b8d2-9f20b0cc05b8",
   "metadata": {},
   "source": [
    "# Data Science Tools and Ecosystem"
   ]
  },
  {
   "cell_type": "markdown",
   "id": "f08ade39-9ca1-4464-a411-e2beca497aac",
   "metadata": {},
   "source": [
    "In this notebook, Data Science Tools and Ecosystem are summarized."
   ]
  },
  {
   "cell_type": "markdown",
   "id": "094604d6-eac7-4b85-92ca-cd2e2a6ac0db",
   "metadata": {},
   "source": [
    "**Objectives:**\n",
    "* Showcase some markdown cell examples.\n",
    "* List popular data science languages.\n",
    "* List popular data science libraries.\n",
    "* list popular data science tools.\n",
    "* Showcase some simple arithmetic code examples."
   ]
  },
  {
   "cell_type": "markdown",
   "id": "2641ddc9-f6db-4078-aef0-2caa03d93416",
   "metadata": {},
   "source": [
    "Some of the popular languages that Data Scientists use are:\n",
    "1. Python\n",
    "2. R\n",
    "3. SQL\n",
    "4. Java\n",
    "5. Scala\n",
    "6. C++\n",
    "7. Julia"
   ]
  },
  {
   "cell_type": "markdown",
   "id": "b9591e74-2f81-4df2-9b52-5d950c076112",
   "metadata": {},
   "source": [
    "Some of the commonly used libraries used by Data Scientists include:\n",
    "1. NumPy\n",
    "2. SciPy\n",
    "3. Matplotlib\n",
    "4. Pandas"
   ]
  },
  {
   "cell_type": "markdown",
   "id": "ddf97c3f-6fde-471f-a829-6b1641cb8cb1",
   "metadata": {},
   "source": [
    "| Data Science Tools |\n",
    "| --- |\n",
    "| JupyterLab |\n",
    "| GoogleColab |\n",
    "| VS Code |\n",
    "| Rstudio |"
   ]
  },
  {
   "cell_type": "markdown",
   "id": "c8be22bc-7fd6-4ad7-8285-db89a61b7838",
   "metadata": {},
   "source": [
    "### Below are a few examples of evaluating arithmetic expressions in Python."
   ]
  },
  {
   "cell_type": "code",
   "execution_count": 10,
   "id": "46ac7471-d552-43aa-9f53-f7d14e5126fb",
   "metadata": {
    "tags": []
   },
   "outputs": [
    {
     "data": {
      "text/plain": [
       "17"
      ]
     },
     "execution_count": 10,
     "metadata": {},
     "output_type": "execute_result"
    }
   ],
   "source": [
    "# This is a simple arithmetic expression to multiply and then add integers.\n",
    "(3*4)+5"
   ]
  },
  {
   "cell_type": "code",
   "execution_count": 11,
   "id": "7881f5f4-e81c-4d5d-aa7b-7e52eaab1291",
   "metadata": {
    "tags": []
   },
   "outputs": [
    {
     "name": "stdout",
     "output_type": "stream",
     "text": [
      "hours = 3.3333333333333335\n"
     ]
    }
   ],
   "source": [
    "# This will convert 200 minutes to hours by dividing by 60. \n",
    "minutes = 200\n",
    "hours = minutes / 60\n",
    "print('hours =', hours)"
   ]
  },
  {
   "cell_type": "markdown",
   "id": "6e1c1091-32fb-41b2-9dab-b8b87246b99b",
   "metadata": {},
   "source": [
    "## Author\n",
    "Seth"
   ]
  },
  {
   "cell_type": "code",
   "execution_count": null,
   "id": "b5799d6f-6d38-4e64-83fc-336e2000f9ff",
   "metadata": {},
   "outputs": [],
   "source": []
  }
 ],
 "metadata": {
  "kernelspec": {
   "display_name": "Python",
   "language": "python",
   "name": "conda-env-python-py"
  },
  "language_info": {
   "codemirror_mode": {
    "name": "ipython",
    "version": 3
   },
   "file_extension": ".py",
   "mimetype": "text/x-python",
   "name": "python",
   "nbconvert_exporter": "python",
   "pygments_lexer": "ipython3",
   "version": "3.7.12"
  }
 },
 "nbformat": 4,
 "nbformat_minor": 5
}
